{
 "cells": [
  {
   "cell_type": "markdown",
   "metadata": {},
   "source": [
    "# Tutorial 2"
   ]
  },
  {
   "cell_type": "markdown",
   "metadata": {},
   "source": [
    "In this tutorial 2. <br>\n",
    "In this we will be learning about how to create a <h3> Convulational Neural Network , CNN </h3> model to predict the class of image belongs to , of <h3> Fashion MNIST</h3> dataset by Tensorflow"
   ]
  },
  {
   "cell_type": "markdown",
   "metadata": {},
   "source": [
    "### Why use CNN ?\n",
    "<br>\n",
    "CNN makes sures that we get pattern recognizable throughout the image,whether the image is vertical/horizontal/flipped or whatever. If , for example , flower is present in image,then we should be able to predict flower in corner, centre ,at edge or any other position. We donot stick with the fixed pattern. But , the pattern throught image of object.\n",
    "<br> CNN mostly used for imaging and video stuff like detection,etc\n",
    "<br> \n"
   ]
  },
  {
   "cell_type": "markdown",
   "metadata": {},
   "source": [
    "### Terms to get familiar with \n",
    "<li> CNN : A network in which at least one convulational layer is present. A typical CNN has other layers like pooling layers and dense layers.\n",
    "<li> Convulations :Process of applying kernal (\"filter\") to an image\n",
    "<li> Kernel/Filter : A matrix which is smaller than input , used to transform the inputs into chunks\n",
    "<li> Padding : Adding pixels of some values , usually 0's around image\n",
    "<li> Pooling : Process of reducing the size of the image through downsampling. Several types of pooling available like average,maxpooling is mostly used.\n",
    "<li> stride : Number of pixels to slide the kernel for next move.\n",
    "<li> Downsampling : Act of reducing the size of the image\n",
    "    "
   ]
  },
  {
   "cell_type": "code",
   "execution_count": 1,
   "metadata": {},
   "outputs": [],
   "source": [
    "#lets import libraries\n",
    "import tensorflow as tf\n",
    "from tensorflow.keras.datasets import fashion_mnist\n",
    "import numpy as np\n",
    "import pandas as pd\n",
    "import matplotlib.pyplot as plt"
   ]
  },
  {
   "cell_type": "code",
   "execution_count": 2,
   "metadata": {},
   "outputs": [],
   "source": [
    "# lets import our data now\n",
    "(trainX, trainY) , (testX,testY) = fashion_mnist.load_data()"
   ]
  },
  {
   "cell_type": "code",
   "execution_count": 3,
   "metadata": {},
   "outputs": [
    {
     "data": {
      "text/plain": [
       "(60000, 28, 28)"
      ]
     },
     "execution_count": 3,
     "metadata": {},
     "output_type": "execute_result"
    }
   ],
   "source": [
    "#how many images are there in trainX ? \n",
    "# what is the shape of those images\n",
    "trainX.shape "
   ]
  },
  {
   "cell_type": "code",
   "execution_count": 4,
   "metadata": {},
   "outputs": [
    {
     "data": {
      "text/plain": [
       "(10000, 28, 28)"
      ]
     },
     "execution_count": 4,
     "metadata": {},
     "output_type": "execute_result"
    }
   ],
   "source": [
    "testX.shape"
   ]
  },
  {
   "cell_type": "code",
   "execution_count": 5,
   "metadata": {},
   "outputs": [
    {
     "name": "stdout",
     "output_type": "stream",
     "text": [
      "(60000, 28, 28, 1)\n"
     ]
    }
   ],
   "source": [
    "#we need to shape our training data \n",
    "''' We know that our images are grayscale 28x28 images'''\n",
    "trainX_reshaped = np.reshape(trainX,(60000,28,28,1))\n",
    "print(trainX_reshaped.shape)"
   ]
  },
  {
   "cell_type": "code",
   "execution_count": 6,
   "metadata": {},
   "outputs": [
    {
     "name": "stdout",
     "output_type": "stream",
     "text": [
      "(10000, 28, 28, 1)\n"
     ]
    }
   ],
   "source": [
    "testX_reshaped = np.reshape(testX,(10000,28,28,1))\n",
    "print(testX_reshaped.shape)"
   ]
  },
  {
   "cell_type": "markdown",
   "metadata": {},
   "source": [
    "##  Step 1: Architecture of CNN model\n",
    "Architecture is overall design of model"
   ]
  },
  {
   "cell_type": "code",
   "execution_count": 7,
   "metadata": {},
   "outputs": [
    {
     "name": "stdout",
     "output_type": "stream",
     "text": [
      "Model: \"sequential\"\n",
      "_________________________________________________________________\n",
      "Layer (type)                 Output Shape              Param #   \n",
      "=================================================================\n",
      "conv2d (Conv2D)              (None, 27, 27, 16)        80        \n",
      "_________________________________________________________________\n",
      "max_pooling2d (MaxPooling2D) (None, 13, 13, 16)        0         \n",
      "_________________________________________________________________\n",
      "conv2d_1 (Conv2D)            (None, 12, 12, 64)        4160      \n",
      "_________________________________________________________________\n",
      "max_pooling2d_1 (MaxPooling2 (None, 6, 6, 64)          0         \n",
      "_________________________________________________________________\n",
      "flatten (Flatten)            (None, 2304)              0         \n",
      "_________________________________________________________________\n",
      "dense (Dense)                (None, 512)               1180160   \n",
      "_________________________________________________________________\n",
      "dense_1 (Dense)              (None, 64)                32832     \n",
      "_________________________________________________________________\n",
      "dropout (Dropout)            (None, 64)                0         \n",
      "_________________________________________________________________\n",
      "dense_2 (Dense)              (None, 10)                650       \n",
      "=================================================================\n",
      "Total params: 1,217,882\n",
      "Trainable params: 1,217,882\n",
      "Non-trainable params: 0\n",
      "_________________________________________________________________\n",
      " CNN Model summary : \n",
      " None\n"
     ]
    }
   ],
   "source": [
    "from tensorflow.keras.layers import Dense ,Conv2D , MaxPool2D , Flatten ,Dropout \n",
    "from tensorflow.keras.models import Sequential\n",
    "\n",
    "cnn_model = Sequential()\n",
    "cnn_model.add(Conv2D(input_shape=(28,28,1) ,kernel_size=(2,2) , filters=16 , activation=\"relu\" ))\n",
    "cnn_model.add(MaxPool2D())\n",
    "cnn_model.add(Conv2D(filters=64,kernel_size=(2,2),activation=\"relu\"))\n",
    "cnn_model.add(MaxPool2D())\n",
    "cnn_model.add(Flatten())\n",
    "cnn_model.add(Dense(units=512 ,activation=\"relu\"))\n",
    "cnn_model.add(Dense(units=64 ,activation=\"relu\"))\n",
    "cnn_model.add(Dropout(0.1))\n",
    "cnn_model.add(Dense(units=10,activation=\"softmax\"))\n",
    "\n",
    "print(\" CNN Model summary : \\n\" , cnn_model.summary())"
   ]
  },
  {
   "cell_type": "markdown",
   "metadata": {},
   "source": [
    "##  Step 2 : Compile Model"
   ]
  },
  {
   "cell_type": "code",
   "execution_count": 8,
   "metadata": {},
   "outputs": [],
   "source": [
    "cnn_model.compile(loss=\"sparse_categorical_crossentropy\" , optimizer = \"adam\" , metrics=[\"accuracy\"])"
   ]
  },
  {
   "cell_type": "markdown",
   "metadata": {},
   "source": [
    "## Step 3 : Fit/Train Model"
   ]
  },
  {
   "cell_type": "code",
   "execution_count": 9,
   "metadata": {},
   "outputs": [
    {
     "name": "stdout",
     "output_type": "stream",
     "text": [
      "Epoch 1/20\n",
      "1875/1875 [==============================] - 4s 2ms/step - loss: 0.7295 - accuracy: 0.8016\n",
      "Epoch 2/20\n",
      "1875/1875 [==============================] - 4s 2ms/step - loss: 0.3556 - accuracy: 0.8725\n",
      "Epoch 3/20\n",
      "1875/1875 [==============================] - 4s 2ms/step - loss: 0.2959 - accuracy: 0.8926\n",
      "Epoch 4/20\n",
      "1875/1875 [==============================] - 4s 2ms/step - loss: 0.2608 - accuracy: 0.9046\n",
      "Epoch 5/20\n",
      "1875/1875 [==============================] - 4s 2ms/step - loss: 0.2334 - accuracy: 0.9136\n",
      "Epoch 6/20\n",
      "1875/1875 [==============================] - 4s 2ms/step - loss: 0.2082 - accuracy: 0.9220\n",
      "Epoch 7/20\n",
      "1875/1875 [==============================] - 4s 2ms/step - loss: 0.1889 - accuracy: 0.9301\n",
      "Epoch 8/20\n",
      "1875/1875 [==============================] - 4s 2ms/step - loss: 0.1680 - accuracy: 0.9381\n",
      "Epoch 9/20\n",
      "1875/1875 [==============================] - 4s 2ms/step - loss: 0.1526 - accuracy: 0.9436\n",
      "Epoch 10/20\n",
      "1875/1875 [==============================] - 4s 2ms/step - loss: 0.1444 - accuracy: 0.9474\n",
      "Epoch 11/20\n",
      "1875/1875 [==============================] - 5s 2ms/step - loss: 0.1276 - accuracy: 0.9525\n",
      "Epoch 12/20\n",
      "1875/1875 [==============================] - 4s 2ms/step - loss: 0.1127 - accuracy: 0.9572\n",
      "Epoch 13/20\n",
      "1875/1875 [==============================] - 5s 3ms/step - loss: 0.1048 - accuracy: 0.9609\n",
      "Epoch 14/20\n",
      "1875/1875 [==============================] - 4s 2ms/step - loss: 0.0992 - accuracy: 0.9634\n",
      "Epoch 15/20\n",
      "1875/1875 [==============================] - 5s 3ms/step - loss: 0.0878 - accuracy: 0.9682\n",
      "Epoch 16/20\n",
      "1875/1875 [==============================] - 5s 3ms/step - loss: 0.0801 - accuracy: 0.9712\n",
      "Epoch 17/20\n",
      "1875/1875 [==============================] - 4s 2ms/step - loss: 0.0785 - accuracy: 0.9726\n",
      "Epoch 18/20\n",
      "1875/1875 [==============================] - 5s 3ms/step - loss: 0.0697 - accuracy: 0.9754\n",
      "Epoch 19/20\n",
      "1875/1875 [==============================] - 4s 2ms/step - loss: 0.0703 - accuracy: 0.9758\n",
      "Epoch 20/20\n",
      "1875/1875 [==============================] - 4s 2ms/step - loss: 0.0638 - accuracy: 0.9776\n"
     ]
    }
   ],
   "source": [
    "epochs = 20\n",
    "histroy = cnn_model.fit(trainX_reshaped,trainY , epochs=epochs)"
   ]
  },
  {
   "cell_type": "markdown",
   "metadata": {},
   "source": [
    "### You can see clearly that by using few CNN concepts ,we are able to get accuracy aeound 98% in just 20 epochs."
   ]
  },
  {
   "cell_type": "markdown",
   "metadata": {},
   "source": [
    "## Step 4 : Evaluate / Predict on Test data"
   ]
  },
  {
   "cell_type": "code",
   "execution_count": 10,
   "metadata": {},
   "outputs": [
    {
     "name": "stdout",
     "output_type": "stream",
     "text": [
      "313/313 [==============================] - 0s 1ms/step - loss: 0.5838 - accuracy: 0.9046\n"
     ]
    }
   ],
   "source": [
    "evaluations =cnn_model.evaluate(testX_reshaped,testY)"
   ]
  },
  {
   "cell_type": "code",
   "execution_count": 11,
   "metadata": {},
   "outputs": [
    {
     "name": "stdout",
     "output_type": "stream",
     "text": [
      "Accuracy on test data(unseen images to cnn model) :  0.9046000242233276\n",
      "Loss :  0.583828866481781\n"
     ]
    }
   ],
   "source": [
    "print(\"Accuracy on test data(unseen images to cnn model) : \" , evaluations[1])\n",
    "print(\"Loss : \", evaluations[0])"
   ]
  },
  {
   "cell_type": "code",
   "execution_count": 12,
   "metadata": {},
   "outputs": [
    {
     "data": {
      "text/plain": [
       "20"
      ]
     },
     "execution_count": 12,
     "metadata": {},
     "output_type": "execute_result"
    }
   ],
   "source": [
    "acc=histroy.history[\"accuracy\"]\n",
    "len(acc)"
   ]
  },
  {
   "cell_type": "code",
   "execution_count": 13,
   "metadata": {},
   "outputs": [],
   "source": [
    "acc = list(acc)\n",
    "epochs = [ i for i in range(20)]"
   ]
  },
  {
   "cell_type": "code",
   "execution_count": 14,
   "metadata": {},
   "outputs": [
    {
     "data": {
      "text/plain": [
       "[<matplotlib.lines.Line2D at 0x2064789b2b0>]"
      ]
     },
     "execution_count": 14,
     "metadata": {},
     "output_type": "execute_result"
    },
    {
     "data": {
      "image/png": "[encoded data removed]",
      "text/plain": [
       "<Figure size 432x288 with 1 Axes>"
      ]
     },
     "metadata": {
      "needs_background": "light"
     },
     "output_type": "display_data"
    }
   ],
   "source": [
    "plt.plot(epochs,acc)"
   ]
  },
  {
   "cell_type": "code",
   "execution_count": 15,
   "metadata": {},
   "outputs": [
    {
     "data": {
      "text/plain": [
       "[<matplotlib.lines.Line2D at 0x20776288550>]"
      ]
     },
     "execution_count": 15,
     "metadata": {},
     "output_type": "execute_result"
    },
    {
     "data": {
      "image/png": "[encoded data removed]",
      "text/plain": [
       "<Figure size 432x288 with 1 Axes>"
      ]
     },
     "metadata": {
      "needs_background": "light"
     },
     "output_type": "display_data"
    }
   ],
   "source": [
    "plt.plot(histroy.history[\"loss\"] , epochs)"
   ]
  },
  {
   "cell_type": "markdown",
   "metadata": {},
   "source": [
    "# Thank You !"
   ]
  },
  {
   "cell_type": "code",
   "execution_count": null,
   "metadata": {},
   "outputs": [],
   "source": []
  }
 ],
 "metadata": {
  "kernelspec": {
   "display_name": "Python 3",
   "language": "python",
   "name": "python3"
  },
  "language_info": {
   "codemirror_mode": {
    "name": "ipython",
    "version": 3
   },
   "file_extension": ".py",
   "mimetype": "text/x-python",
   "name": "python",
   "nbconvert_exporter": "python",
   "pygments_lexer": "ipython3",
   "version": "3.7.3"
  }
 },
 "nbformat": 4,
 "nbformat_minor": 4
}
