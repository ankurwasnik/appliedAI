{
 "cells": [
  {
   "cell_type": "code",
   "execution_count": 1,
   "metadata": {},
   "outputs": [],
   "source": [
    "import tensorflow as tf\n",
    "import numpy as np"
   ]
  },
  {
   "cell_type": "markdown",
   "metadata": {},
   "source": [
    "# Tensor\n",
    "Tensors are the multidimensional arrays with uniform type called as dtype. All the tensors are immutable like python strings and numbers. Tensors cannot be updated once created but can be created new onces."
   ]
  },
  {
   "cell_type": "code",
   "execution_count": 2,
   "metadata": {},
   "outputs": [
    {
     "name": "stdout",
     "output_type": "stream",
     "text": [
      "<class 'tensorflow.python.framework.dtypes.DType'>\n"
     ]
    }
   ],
   "source": [
    "#checking supported dtypes of tensorflow\n",
    "print(tf.dtypes.DType)"
   ]
  },
  {
   "cell_type": "code",
   "execution_count": 3,
   "metadata": {},
   "outputs": [],
   "source": [
    "#Lets create some tensors\n",
    "#All the things in tensorflow are tensors. Tensors are always matrices.\n",
    "# Scalar is Rank-0 tensor"
   ]
  },
  {
   "cell_type": "code",
   "execution_count": 4,
   "metadata": {},
   "outputs": [
    {
     "name": "stdout",
     "output_type": "stream",
     "text": [
      "tf.Tensor(4, shape=(), dtype=int32)\n"
     ]
    }
   ],
   "source": [
    "scalar = tf.constant(4) #This will be int32 dtype default\n",
    "print(scalar)"
   ]
  },
  {
   "cell_type": "code",
   "execution_count": 5,
   "metadata": {},
   "outputs": [
    {
     "name": "stdout",
     "output_type": "stream",
     "text": [
      "tf.Tensor([1 2 3 4], shape=(4,), dtype=int32)\n"
     ]
    }
   ],
   "source": [
    "#A vector is rank-1 tensor\n",
    "vector = tf.constant([1 ,2,3,4]) #default dtype-> int32\n",
    "print(vector)"
   ]
  },
  {
   "cell_type": "code",
   "execution_count": 6,
   "metadata": {},
   "outputs": [
    {
     "name": "stdout",
     "output_type": "stream",
     "text": [
      "tf.Tensor([1. 2. 3. 4.], shape=(4,), dtype=float16)\n"
     ]
    }
   ],
   "source": [
    "#creating vector with dtype float16\n",
    "vector16 = tf.constant([1,2,3,4] , dtype=tf.float16)\n",
    "print(vector16)"
   ]
  },
  {
   "cell_type": "code",
   "execution_count": 7,
   "metadata": {},
   "outputs": [
    {
     "name": "stdout",
     "output_type": "stream",
     "text": [
      "tf.Tensor(\n",
      "[[1 2 3]\n",
      " [4 5 6]\n",
      " [7 8 8]], shape=(3, 3), dtype=int32)\n"
     ]
    }
   ],
   "source": [
    "# A matrix is rank-3 tensor\n",
    "matrix = tf.constant([ [1,2,3] , [4,5,6] , [7,8,8]]) #int32\n",
    "print(matrix)"
   ]
  },
  {
   "cell_type": "markdown",
   "metadata": {},
   "source": [
    "# Shapes\n",
    "Tensors have shapes.\n",
    "Tensor shape dictionary :\n",
    "Shape : The length of each of dimensions\n",
    "Rank : The number of tensor dimensions eg: scalar is rank-0 , vector is rank-1 matrix is rank-2 and so on\n",
    "Axis : A particular dimension of tensor \n",
    "Size : total number of items in tensor"
   ]
  },
  {
   "cell_type": "code",
   "execution_count": 8,
   "metadata": {},
   "outputs": [
    {
     "name": "stdout",
     "output_type": "stream",
     "text": [
      "Our matrix -> tf.Tensor(\n",
      "[[1 2 3]\n",
      " [4 5 6]\n",
      " [7 8 9]], shape=(3, 3), dtype=int32)\n",
      "Shape of matrix (3, 3)\n"
     ]
    }
   ],
   "source": [
    "#working with shapes \n",
    "matrix = tf.constant([[1,2,3] , [4,5,6] , [7,8,9]])\n",
    "print('Our matrix ->',matrix)\n",
    "print('Shape of matrix',matrix.shape)"
   ]
  },
  {
   "cell_type": "code",
   "execution_count": 9,
   "metadata": {},
   "outputs": [
    {
     "name": "stdout",
     "output_type": "stream",
     "text": [
      "dimension :  2\n"
     ]
    }
   ],
   "source": [
    "print('dimension : ',matrix.ndim)  "
   ]
  },
  {
   "cell_type": "code",
   "execution_count": 10,
   "metadata": {},
   "outputs": [
    {
     "name": "stdout",
     "output_type": "stream",
     "text": [
      "rank: 9\n"
     ]
    }
   ],
   "source": [
    "print('rank:' , tf.size(matrix).numpy()) #total number of items in tensor 3*3"
   ]
  },
  {
   "cell_type": "markdown",
   "metadata": {},
   "source": [
    "# Indexing"
   ]
  },
  {
   "cell_type": "markdown",
   "metadata": {},
   "source": [
    "#Rules for Indexing\n",
    "1. They are similar to Python\n",
    "2. Indexing start from 0\n",
    "3. Negative indexing starts from end\n",
    "4. colon : are used for slicing"
   ]
  },
  {
   "cell_type": "code",
   "execution_count": 11,
   "metadata": {},
   "outputs": [
    {
     "name": "stdout",
     "output_type": "stream",
     "text": [
      "Original vector  [1 2 3 4 5]\n",
      "3rd element :  tf.Tensor(3, shape=(), dtype=int32)\n",
      "last element :  tf.Tensor(5, shape=(), dtype=int32)\n"
     ]
    }
   ],
   "source": [
    "vector = tf.constant([1,2,3,4,5])\n",
    "print('Original vector ' , vector.numpy())\n",
    "print('3rd element : ', vector[2])\n",
    "print('last element : ',vector[-1])"
   ]
  },
  {
   "cell_type": "code",
   "execution_count": 12,
   "metadata": {},
   "outputs": [
    {
     "name": "stdout",
     "output_type": "stream",
     "text": [
      "original matrix :  tf.Tensor(\n",
      "[[1 2 3]\n",
      " [4 5 6]\n",
      " [7 8 9]], shape=(3, 3), dtype=int32)\n",
      "element at 1st row and 2th col => tf.Tensor(2, shape=(), dtype=int32)\n"
     ]
    }
   ],
   "source": [
    "matrix  = tf.constant(matrix)\n",
    "print('original matrix : ',matrix)\n",
    "print('element at 1st row and 2th col =>',matrix[0,1])"
   ]
  },
  {
   "cell_type": "markdown",
   "metadata": {},
   "source": [
    "# Reshaping matrix"
   ]
  },
  {
   "cell_type": "code",
   "execution_count": 13,
   "metadata": {},
   "outputs": [
    {
     "name": "stdout",
     "output_type": "stream",
     "text": [
      "tf.Tensor(\n",
      "[[1 2 3 4]\n",
      " [5 6 7 8]], shape=(2, 4), dtype=int32) \n",
      "\n",
      "shape of mat:  (2, 4)\n"
     ]
    }
   ],
   "source": [
    "#original mat\n",
    "mat = tf.constant([ [ 1,2,3,4] , [5,6,7,8]])\n",
    "print(mat,'\\n')\n",
    "print('shape of mat: ' , mat.shape)"
   ]
  },
  {
   "cell_type": "code",
   "execution_count": 14,
   "metadata": {},
   "outputs": [
    {
     "name": "stdout",
     "output_type": "stream",
     "text": [
      "tf.Tensor(\n",
      "[[1 2]\n",
      " [3 4]\n",
      " [5 6]\n",
      " [7 8]], shape=(4, 2), dtype=int32)\n",
      "\n",
      " Reshaped matrix shape:  (4, 2)\n"
     ]
    }
   ],
   "source": [
    "#reshaping using tf.reshape(matrix,dimensions)\n",
    "reshaped_mat = tf.reshape(mat,(4,2))\n",
    "print(reshaped_mat)\n",
    "print('\\n','Reshaped matrix shape: ',reshaped_mat.shape)"
   ]
  },
  {
   "cell_type": "markdown",
   "metadata": {},
   "source": [
    "# Thank You\n",
    "## Check out the BROADCASTING in next jupyter notebook"
   ]
  },
  {
   "cell_type": "code",
   "execution_count": null,
   "metadata": {},
   "outputs": [],
   "source": []
  }
 ],
 "metadata": {
  "kernelspec": {
   "display_name": "Python 3",
   "language": "python",
   "name": "python3"
  },
  "language_info": {
   "codemirror_mode": {
    "name": "ipython",
    "version": 3
   },
   "file_extension": ".py",
   "mimetype": "text/x-python",
   "name": "python",
   "nbconvert_exporter": "python",
   "pygments_lexer": "ipython3",
   "version": "3.8.5"
  }
 },
 "nbformat": 4,
 "nbformat_minor": 4
}
