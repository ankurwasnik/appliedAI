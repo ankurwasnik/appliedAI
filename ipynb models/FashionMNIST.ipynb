{
 "cells": [
  {
   "cell_type": "markdown",
   "metadata": {},
   "source": [
    "# FASHION MNIST DATASET NOTEBOOK\n",
    "## Artificial and Convulation layers."
   ]
  },
  {
   "cell_type": "code",
   "execution_count": 1,
   "metadata": {},
   "outputs": [
    {
     "name": "stdout",
     "output_type": "stream",
     "text": [
      "Data loaded successfully !\n"
     ]
    }
   ],
   "source": [
    "import numpy as np\n",
    "import tensorflow as tf\n",
    "from tensorflow.keras.datasets import fashion_mnist\n",
    "print('Data loaded successfully !')"
   ]
  },
  {
   "cell_type": "code",
   "execution_count": 2,
   "metadata": {},
   "outputs": [
    {
     "name": "stdout",
     "output_type": "stream",
     "text": [
      "Downloading data from https://storage.googleapis.com/tensorflow/tf-keras-datasets/train-labels-idx1-ubyte.gz\n",
      "32768/29515 [=================================] - 0s 7us/step\n",
      "Downloading data from https://storage.googleapis.com/tensorflow/tf-keras-datasets/train-images-idx3-ubyte.gz\n",
      "26427392/26421880 [==============================] - 102s 4us/step\n",
      "Downloading data from https://storage.googleapis.com/tensorflow/tf-keras-datasets/t10k-labels-idx1-ubyte.gz\n",
      "8192/5148 [===============================================] - 0s 1us/step\n",
      "Downloading data from https://storage.googleapis.com/tensorflow/tf-keras-datasets/t10k-images-idx3-ubyte.gz\n",
      "4423680/4422102 [==============================] - 14s 3us/step\n"
     ]
    }
   ],
   "source": [
    "#loading train and test datasets\n",
    "(X_train,Y_train),(X_test,Y_test)= fashion_mnist.load_data()"
   ]
  },
  {
   "cell_type": "code",
   "execution_count": 65,
   "metadata": {},
   "outputs": [],
   "source": [
    "def train_mnist_conv():\n",
    "   \n",
    "    class myCallback(tf.keras.callbacks.Callback):\n",
    "      def on_epoch_end(self, epoch, logs={}):\n",
    "        if logs.get('accuracy')>=0.95 :#sometime use “acc” instead of “accuracy”\n",
    "          print(\"\\nReached 95.0% accuracy so cancelling training!\")\n",
    "          self.model.stop_training = True\n",
    "    \n",
    "    mnist = tf.keras.datasets.mnist\n",
    "    (training_images, training_labels), (test_images, test_labels) = (X_train,Y_train),(X_test,Y_test)\n",
    "    \n",
    "    #callback instance\n",
    "    callback = myCallback()\n",
    "    #data preprocessing only reshaping and resizing !\n",
    "    training_images , test_images = training_images.reshape(60000,28,28,1) , test_images.reshape(10000,28,28,1)\n",
    "    training_images,test_images=training_images/255.0 , test_images/255.0\n",
    "    \n",
    "\n",
    "    model = tf.keras.models.Sequential([\n",
    "            tf.keras.layers.Conv2D(64,(3,3),activation='relu' ,input_shape=(28,28,1)), # there are 64 filters of size 3x3\n",
    "            tf.keras.layers.MaxPooling2D(2,2),\n",
    "            tf.keras.layers.Conv2D(128,(3,3),activation='relu'),\n",
    "            tf.keras.layers.MaxPool2D(2,2),\n",
    "            tf.keras.layers.Flatten(),\n",
    "            tf.keras.layers.Dense(512,activation='relu'),\n",
    "            tf.keras.layers.Dropout(0.2),\n",
    "            tf.keras.layers.Dense(10,activation='softmax') # There are 10 classes in our dataset.   \n",
    "    ])\n",
    "    \n",
    "    #model compiling\n",
    "    model.compile(optimizer='adam', loss='sparse_categorical_crossentropy', metrics=['accuracy'])\n",
    "    \n",
    "    # model fitting\n",
    "    history = model.fit(\n",
    "        training_images,\n",
    "        training_labels,\n",
    "        epochs=20,\n",
    "        callbacks=[callback]\n",
    "       \n",
    "    )\n",
    "  \n",
    "    return history,model\n",
    "\n"
   ]
  },
  {
   "cell_type": "code",
   "execution_count": 66,
   "metadata": {},
   "outputs": [
    {
     "name": "stdout",
     "output_type": "stream",
     "text": [
      "Epoch 1/20\n",
      "1875/1875 [==============================] - 50s 27ms/step - loss: 0.4142 - accuracy: 0.8464\n",
      "Epoch 2/20\n",
      "1875/1875 [==============================] - 46s 24ms/step - loss: 0.2738 - accuracy: 0.8987\n",
      "Epoch 3/20\n",
      "1875/1875 [==============================] - 46s 24ms/step - loss: 0.2284 - accuracy: 0.9147\n",
      "Epoch 4/20\n",
      "1875/1875 [==============================] - 46s 24ms/step - loss: 0.1924 - accuracy: 0.9269\n",
      "Epoch 5/20\n",
      "1875/1875 [==============================] - 52s 28ms/step - loss: 0.1643 - accuracy: 0.9387\n",
      "Epoch 6/20\n",
      "1875/1875 [==============================] - 49s 26ms/step - loss: 0.1408 - accuracy: 0.9465\n",
      "Epoch 7/20\n",
      "1874/1875 [============================>.] - ETA: 0s - loss: 0.1212 - accuracy: 0.9536\n",
      "Reached 95.0% accuracy so cancelling training!\n",
      "1875/1875 [==============================] - 46s 25ms/step - loss: 0.1212 - accuracy: 0.9536\n"
     ]
    }
   ],
   "source": [
    "history,ann_model= train_mnist_conv()"
   ]
  },
  {
   "cell_type": "code",
   "execution_count": 74,
   "metadata": {},
   "outputs": [
    {
     "name": "stdout",
     "output_type": "stream",
     "text": [
      "[0.84640002 0.89873332 0.91469997 0.92693335 0.93868333 0.94648331\n",
      " 0.95365   ] [0.41422006 0.27378914 0.22835614 0.19240659 0.16427857 0.14075932\n",
      " 0.12119371]\n"
     ]
    }
   ],
   "source": [
    "#visuals\n",
    "epoches=np.arange(7)\n",
    "acc = np.array(history.history['accuracy'])\n",
    "loss= np.array(history.history['loss'])\n",
    "import matplotlib.pyplot as plt\n",
    "\n",
    "print(acc,loss)"
   ]
  },
  {
   "cell_type": "code",
   "execution_count": 70,
   "metadata": {},
   "outputs": [
    {
     "data": {
      "text/plain": [
       "[<matplotlib.lines.Line2D at 0x1ff1e8f0dc8>]"
      ]
     },
     "execution_count": 70,
     "metadata": {},
     "output_type": "execute_result"
    },
    {
     "data": {
      "image/png": "[encoded data removed]",
      "text/plain": [
       "<Figure size 432x288 with 1 Axes>"
      ]
     },
     "metadata": {
      "needs_background": "light"
     },
     "output_type": "display_data"
    }
   ],
   "source": [
    "plt.plot(epoches,acc)\n",
    "plt.plot(epoches,loss)\n",
    "#since loss and accuracy seems to improve over time , you can train for more epoches ! "
   ]
  },
  {
   "cell_type": "code",
   "execution_count": 71,
   "metadata": {},
   "outputs": [
    {
     "name": "stdout",
     "output_type": "stream",
     "text": [
      "313/313 [==============================] - 3s 9ms/step - loss: 0.2700 - accuracy: 0.9153\n"
     ]
    }
   ],
   "source": [
    "#Evaluating on the test dataset\n",
    "predict=ann_model.evaluate(X_test_preprocessed,Y_test)"
   ]
  },
  {
   "cell_type": "code",
   "execution_count": 73,
   "metadata": {},
   "outputs": [
    {
     "name": "stdout",
     "output_type": "stream",
     "text": [
      "Evalution loss 0.26998698711395264\n",
      "Evalutaion accuracy 0.9153000116348267\n"
     ]
    }
   ],
   "source": [
    "eval_loss=predict[0]\n",
    "eval_acc =predict[1]\n",
    "print(\"Evalution loss\",eval_loss)\n",
    "print('Evalutaion accuracy',eval_acc)"
   ]
  },
  {
   "cell_type": "code",
   "execution_count": null,
   "metadata": {},
   "outputs": [],
   "source": [
    "#Our model is predicting good results on the images it has never seen ! Test dataset"
   ]
  }
 ],
 "metadata": {
  "kernelspec": {
   "display_name": "Python 3",
   "language": "python",
   "name": "python3"
  }
 },
 "nbformat": 4,
 "nbformat_minor": 4
}
