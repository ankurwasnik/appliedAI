{
 "cells": [
  {
   "cell_type": "markdown",
   "metadata": {},
   "source": [
    "# Broadcasting \n",
    "Broadcasting is an important concept to understand. During broadcasting , the smaller tensor is stretched for numerical computations so that it could fit to the larger tensor and complete operations. "
   ]
  },
  {
   "cell_type": "code",
   "execution_count": 1,
   "metadata": {},
   "outputs": [],
   "source": [
    "#broadcasting\n",
    "#eg: A scalar is broadcasted to multiply to a matrix !\n",
    "#Simple easy pizzy broadcasting"
   ]
  },
  {
   "cell_type": "code",
   "execution_count": 2,
   "metadata": {},
   "outputs": [],
   "source": [
    "import tensorflow as tf\n",
    "import numpy as np"
   ]
  },
  {
   "cell_type": "code",
   "execution_count": 3,
   "metadata": {},
   "outputs": [
    {
     "data": {
      "text/plain": [
       "<tf.Tensor: shape=(2, 3), dtype=int32, numpy=\n",
       "array([[ 4,  8, 12],\n",
       "       [16, 20, 24]], dtype=int32)>"
      ]
     },
     "execution_count": 3,
     "metadata": {},
     "output_type": "execute_result"
    }
   ],
   "source": [
    "scalar = tf.constant(4)\n",
    "matrix = tf.constant([ [1,2,3 ], [4,5,6]]) \n",
    "multiplication = tf.multiply(scalar,matrix)\n",
    "print(multiplication ) #scalar=4 is broadcasted so that it could fit with matrix dim"
   ]
  },
  {
   "cell_type": "markdown",
   "metadata": {},
   "source": [
    "#unfold this steps\n",
    "'''\n",
    "scalar=4\n",
    "During broadcasting:\n",
    "scalar= [ [4,4,4] , [4,4,4]]\n",
    "matrix = [ [1,2,3 ], [4,5,6]]\n",
    "then \n",
    "multiplication  = scalar * matrix #element wise multiplication\n",
    "\n",
    "'''"
   ]
  },
  {
   "cell_type": "markdown",
   "metadata": {},
   "source": [
    "# Thank You !\n",
    "Don't forget to star the repository and check out other tensorflow jupyter notebooks"
   ]
  },
  {
   "cell_type": "code",
   "execution_count": null,
   "metadata": {},
   "outputs": [],
   "source": []
  }
 ],
 "metadata": {
  "kernelspec": {
   "display_name": "Python 3",
   "language": "python",
   "name": "python3"
  },
  "language_info": {
   "codemirror_mode": {
    "name": "ipython",
    "version": 3
   },
   "file_extension": ".py",
   "mimetype": "text/x-python",
   "name": "python",
   "nbconvert_exporter": "python",
   "pygments_lexer": "ipython3",
   "version": "3.8.5"
  }
 },
 "nbformat": 4,
 "nbformat_minor": 4
}
