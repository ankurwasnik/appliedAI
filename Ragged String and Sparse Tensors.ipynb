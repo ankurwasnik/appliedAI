{
 "cells": [
  {
   "cell_type": "markdown",
   "metadata": {},
   "source": [
    "# Working with Ragged , String and Sparse Tensors.\n",
    "This notebook is dedicated to get introduced to above tensors"
   ]
  },
  {
   "cell_type": "code",
   "execution_count": 1,
   "metadata": {},
   "outputs": [],
   "source": [
    "import tensorflow as tf\n",
    "import numpy as np\n",
    "import math"
   ]
  },
  {
   "cell_type": "markdown",
   "metadata": {},
   "source": [
    "## Ragged Tensors  -:\n",
    "### A tensor with variable numbers of elements along some axis is called \"ragged\".\n"
   ]
  },
  {
   "cell_type": "code",
   "execution_count": 2,
   "metadata": {},
   "outputs": [
    {
     "name": "stdout",
     "output_type": "stream",
     "text": [
      "Tensors with variable size not possible unless you use ragged Tensors\n"
     ]
    }
   ],
   "source": [
    "try :\n",
    "    not_raggedTensor = tf.constant([ [1,2,3,4] , [4,5] , [4]])\n",
    "except :\n",
    "    print(\"Tensors with variable size not possible unless you use ragged Tensors\")"
   ]
  },
  {
   "cell_type": "code",
   "execution_count": 3,
   "metadata": {},
   "outputs": [],
   "source": [
    "#Did you see , we tried to make tensor in which each element had variable size\n"
   ]
  },
  {
   "cell_type": "code",
   "execution_count": 4,
   "metadata": {},
   "outputs": [
    {
     "name": "stdout",
     "output_type": "stream",
     "text": [
      "[array([1, 2, 3], dtype=int32) array([4, 5], dtype=int32)\n",
      " array([1, 2, 3, 4, 5, 6, 6], dtype=int32) array([0], dtype=int32)]\n"
     ]
    }
   ],
   "source": [
    "# Every Problem have solutions !\n",
    "ragged_v = [ [1,2,3] ,\n",
    "             [4,5] ,\n",
    "             [1,2,3,4,5,6,6],\n",
    "             [0]]\n",
    "#using ragged tensors\n",
    "ragged_tensor = tf.ragged.constant(ragged_v)\n",
    "print(ragged_tensor.numpy())"
   ]
  },
  {
   "cell_type": "code",
   "execution_count": 5,
   "metadata": {},
   "outputs": [
    {
     "name": "stdout",
     "output_type": "stream",
     "text": [
      "<tf.RaggedTensor [[1, 2, 3], [4, 5], [1, 2, 3, 4, 5, 6, 6], [0]]>\n"
     ]
    }
   ],
   "source": [
    "print(ragged_tensor)"
   ]
  },
  {
   "attachments": {
    "image.png": {
     "image/png": "[encoded data removed]"
    }
   },
   "cell_type": "markdown",
   "metadata": {},
   "source": [
    "![image.png](attachment:image.png)"
   ]
  },
  {
   "cell_type": "code",
   "execution_count": 6,
   "metadata": {},
   "outputs": [],
   "source": [
    "#Above is the image of ragged tensor\n"
   ]
  },
  {
   "cell_type": "code",
   "execution_count": 7,
   "metadata": {},
   "outputs": [
    {
     "data": {
      "text/plain": [
       "TensorShape([4, None])"
      ]
     },
     "execution_count": 7,
     "metadata": {},
     "output_type": "execute_result"
    }
   ],
   "source": [
    "#lets loook at the shape of ragged tensor\n",
    "ragged_tensor.shape"
   ]
  },
  {
   "cell_type": "code",
   "execution_count": 8,
   "metadata": {},
   "outputs": [],
   "source": [
    "#Notice that we have None in shape : That means the variable length is not known"
   ]
  },
  {
   "cell_type": "markdown",
   "metadata": {},
   "source": [
    "## String Tensors"
   ]
  },
  {
   "cell_type": "code",
   "execution_count": 9,
   "metadata": {},
   "outputs": [
    {
     "name": "stdout",
     "output_type": "stream",
     "text": [
      "tf.Tensor([b'applied' b'ai' b'love' b'tensorflow'], shape=(4,), dtype=string)\n"
     ]
    }
   ],
   "source": [
    "# In tensorflow , we can create tensors out of strings . \n",
    "# Happy coding\n",
    "\n",
    "string_list = ['applied' , 'ai' , 'love' , 'tensorflow'] \n",
    "string_tensor = tf.constant(string_list)\n",
    "print(string_tensor)"
   ]
  },
  {
   "cell_type": "code",
   "execution_count": 10,
   "metadata": {},
   "outputs": [
    {
     "name": "stdout",
     "output_type": "stream",
     "text": [
      "Shape:  (4,)\n",
      "Dimensions:  1\n"
     ]
    }
   ],
   "source": [
    "#lets look at shape and ndims\n",
    "print('Shape: ', string_tensor.shape)\n",
    "print('Dimensions: ',string_tensor.ndim)"
   ]
  },
  {
   "cell_type": "markdown",
   "metadata": {},
   "source": [
    "Understanding  : (4, )\n",
    "(4,) is equivalent to (4,None)\n",
    "that means there are 4 strings with variable string lengths"
   ]
  },
  {
   "cell_type": "code",
   "execution_count": 11,
   "metadata": {},
   "outputs": [],
   "source": [
    "# splitting strings \n",
    "string_list = [ 'applied ai' , 'love tensorflow']\n",
    "#note that this is different from above\n",
    "splitted_s = tf.strings.split(tf.constant(string_list))"
   ]
  },
  {
   "cell_type": "code",
   "execution_count": 12,
   "metadata": {},
   "outputs": [
    {
     "name": "stdout",
     "output_type": "stream",
     "text": [
      "<tf.RaggedTensor [[b'applied', b'ai'], [b'love', b'tensorflow']]>\n"
     ]
    }
   ],
   "source": [
    "print(splitted_s)"
   ]
  },
  {
   "cell_type": "code",
   "execution_count": 13,
   "metadata": {},
   "outputs": [],
   "source": [
    "#Note : After we splitted string_tensor we have Ragged Tensors"
   ]
  },
  {
   "cell_type": "code",
   "execution_count": 14,
   "metadata": {},
   "outputs": [
    {
     "name": "stdout",
     "output_type": "stream",
     "text": [
      "tf.Tensor([b'1 2 100 400'], shape=(1,), dtype=string)\n"
     ]
    }
   ],
   "source": [
    "#making numeric tensors out of string tensors\n",
    "string = [ '1 2 100 400']\n",
    "string_tensor = tf.constant(string)\n",
    "print(string_tensor)\n",
    "\n"
   ]
  },
  {
   "cell_type": "code",
   "execution_count": 15,
   "metadata": {},
   "outputs": [],
   "source": [
    "#converting into numeric tensor\n",
    "converted_numeric_tensor = tf.strings.to_number(tf.strings.split(string,' '))"
   ]
  },
  {
   "cell_type": "code",
   "execution_count": 16,
   "metadata": {},
   "outputs": [
    {
     "name": "stdout",
     "output_type": "stream",
     "text": [
      "<tf.RaggedTensor [[1.0, 2.0, 100.0, 400.0]]>\n"
     ]
    }
   ],
   "source": [
    "print(converted_numeric_tensor)"
   ]
  },
  {
   "cell_type": "code",
   "execution_count": 17,
   "metadata": {},
   "outputs": [
    {
     "data": {
      "text/plain": [
       "<tf.Tensor: shape=(9,), dtype=string, numpy=array([b'a', b'p', b'p', b'l', b'i', b'e', b'd', b'A', b'I'], dtype=object)>"
      ]
     },
     "execution_count": 17,
     "metadata": {},
     "output_type": "execute_result"
    }
   ],
   "source": [
    "# byte splitting \"bytes_split\"\n",
    "string = 'appliedAI'\n",
    "#we will make tensors like [ a p p l i e d A I]\n",
    "tf.strings.bytes_split(string)"
   ]
  },
  {
   "cell_type": "markdown",
   "metadata": {},
   "source": [
    "## Sparse Tensors"
   ]
  },
  {
   "cell_type": "markdown",
   "metadata": {},
   "source": [
    "When we have very wide embedding space in tensors and our tensors are not going to fill with the lot of values but only few values. \n",
    "Its time to use sparse tensors"
   ]
  },
  {
   "cell_type": "code",
   "execution_count": 18,
   "metadata": {},
   "outputs": [],
   "source": [
    "#sparse tensors\n",
    "sparse_tensor = tf.sparse.SparseTensor(\n",
    "    indices = [ [0,0],[1,2] , [3,4]] ,\n",
    "    values = [2,5,8] ,\n",
    "    dense_shape = [5,5]\n",
    ")"
   ]
  },
  {
   "cell_type": "code",
   "execution_count": 19,
   "metadata": {
    "scrolled": true
   },
   "outputs": [
    {
     "name": "stdout",
     "output_type": "stream",
     "text": [
      "SparseTensor(indices=tf.Tensor(\n",
      "[[0 0]\n",
      " [1 2]\n",
      " [3 4]], shape=(3, 2), dtype=int64), values=tf.Tensor([2 5 8], shape=(3,), dtype=int32), dense_shape=tf.Tensor([5 5], shape=(2,), dtype=int64))\n"
     ]
    }
   ],
   "source": [
    "print(sparse_tensor)"
   ]
  },
  {
   "cell_type": "code",
   "execution_count": 20,
   "metadata": {},
   "outputs": [
    {
     "name": "stdout",
     "output_type": "stream",
     "text": [
      "tf.Tensor(\n",
      "[[2 0 0 0 0]\n",
      " [0 0 5 0 0]\n",
      " [0 0 0 0 0]\n",
      " [0 0 0 0 8]\n",
      " [0 0 0 0 0]], shape=(5, 5), dtype=int32)\n"
     ]
    }
   ],
   "source": [
    "print(tf.sparse.to_dense(sparse_tensor))"
   ]
  },
  {
   "cell_type": "code",
   "execution_count": null,
   "metadata": {},
   "outputs": [],
   "source": []
  },
  {
   "cell_type": "markdown",
   "metadata": {},
   "source": [
    "# Thank You !\n",
    "## Dont forget to star the repository and follow @applied.ai on instagram"
   ]
  }
 ],
 "metadata": {
  "kernelspec": {
   "display_name": "Python 3",
   "language": "python",
   "name": "python3"
  },
  "language_info": {
   "codemirror_mode": {
    "name": "ipython",
    "version": 3
   },
   "file_extension": ".py",
   "mimetype": "text/x-python",
   "name": "python",
   "nbconvert_exporter": "python",
   "pygments_lexer": "ipython3",
   "version": "3.8.5"
  }
 },
 "nbformat": 4,
 "nbformat_minor": 4
}
